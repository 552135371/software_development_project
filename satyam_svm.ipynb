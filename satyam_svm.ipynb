{
 "cells": [
  {
   "cell_type": "code",
   "execution_count": 1,
   "metadata": {},
   "outputs": [
    {
     "ename": "IndentationError",
     "evalue": "unexpected indent (<ipython-input-1-98b99ba37fbb>, line 21)",
     "output_type": "error",
     "traceback": [
      "\u001b[1;36m  File \u001b[1;32m\"<ipython-input-1-98b99ba37fbb>\"\u001b[1;36m, line \u001b[1;32m21\u001b[0m\n\u001b[1;33m    X=pd.read_csv(\"project2.csv\")\u001b[0m\n\u001b[1;37m    ^\u001b[0m\n\u001b[1;31mIndentationError\u001b[0m\u001b[1;31m:\u001b[0m unexpected indent\n"
     ]
    }
   ],
   "source": [
    "import pandas as pd\n",
    "import matplotlib.pyplot as plt\n",
    "import numpy as np\n",
    "from sklearn.datasets.samples_generator import make_blobs\n",
    "from sklearn.model_selection import train_test_split\n",
    "from matplotlib import pyplot as plt\n",
    "from sklearn.svm import LinearSVC\n",
    "from sklearn.metrics import confusion_matrix\n",
    "\n",
    "COSMOS = pd.read_csv(\"match_COSMOS_99_with_err2.csv\")\n",
    "COSMOS_rv = COSMOS.replace(to_replace = -99, value = None)\n",
    "COSMOS_rv = COSMOS_rv.replace(to_replace = -99.900000, value = None)\n",
    "COSMOS_rv = COSMOS_rv.replace(to_replace = -99.0, value = None)\n",
    "print(COSMOS_rv)\n",
    "\n",
    "\n",
    "    #Return the figure object with the histogram of x \n",
    "    #where x is the keywords from the pandas dataframe df. \n",
    "    #You can add features outside the function \n",
    "    #to the current instance of the figure, e.g. plt.xlim() or plt.title()\n",
    "X=pd.read_csv(\"project2.csv\")\n",
    "    y=pd.read_csv(\"zspec.csv\")\n",
    "    print(X)\n",
    "    X_train,X_test,y_train,y_test=train_test_split(X,y,test_size=0.3)\n",
    "    model=SVM()\n",
    "    model.fit(X_train,y_train,epochs=10)\n",
    "    z_predict=model.predict(X_test)\n",
    "    plt.figure()\n",
    "    plt.plot(y_test,z_predict)\n",
    "\n",
    "    plt.show()\n",
    "\n",
    "\n",
    "\n",
    "\n",
    "\n",
    "\n",
    "\n",
    "\n",
    "\n",
    "\n"
   ]
  },
  {
   "cell_type": "code",
   "execution_count": null,
   "metadata": {
    "collapsed": true
   },
   "outputs": [],
   "source": []
  },
  {
   "cell_type": "code",
   "execution_count": null,
   "metadata": {
    "collapsed": true
   },
   "outputs": [],
   "source": []
  }
 ],
 "metadata": {
  "kernelspec": {
   "display_name": "Python 3",
   "language": "python",
   "name": "python3"
  },
  "language_info": {
   "codemirror_mode": {
    "name": "ipython",
    "version": 3
   },
   "file_extension": ".py",
   "mimetype": "text/x-python",
   "name": "python",
   "nbconvert_exporter": "python",
   "pygments_lexer": "ipython3",
   "version": "3.7.3"
  }
 },
 "nbformat": 4,
 "nbformat_minor": 2
}
