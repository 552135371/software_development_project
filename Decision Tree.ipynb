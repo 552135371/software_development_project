{
 "cells": [
  {
   "cell_type": "code",
   "execution_count": null,
   "metadata": {},
   "outputs": [],
   "source": [
    "import pandas as pd\n",
    "import matplotlib.pyplot as plt\n",
    "import numpy as np\n",
    "import os"
   ]
  },
  {
   "cell_type": "markdown",
   "execution_count": null,
   "metadata": {},
   "outputs": [],
   "source": [
    "# 1. Import Data\n",
    "### import original dataset"
   ]
  },
  {
   "cell_type": "code",
   "execution_count": null,
   "metadata": {},
   "outputs": [],
   "source": [
    "print (os.path.abspath('.'))\n",
    "os.chdir(\"C:\\\\Users\\\\D.Sia\\\\Desktop\\\\Redshift\\\\Decision Tree\")\n",
    "print (os.getcwd())"
   ]
  },
  {
   "cell_type": "code",
   "execution_count": null,
   "metadata": {},
   "outputs": [],
   "source": [
    "data = pd.read_csv('match_COSMOS_99_with_err.csv')\n",
    "#print(data.columns.values)"
   ]
  },
  {
   "cell_type": "markdown",
   "execution_count": null,
   "metadata": {},
   "outputs": [],
   "source": [
    "### 1.1 column names (find magnitude)"
   ]
  },
  {
   "cell_type": "code",
   "execution_count": null,
   "metadata": {},
   "outputs": [],
   "source": [
    "print(data)"
   ]
  },
  {
   "cell_type": "code",
   "execution_count": null,
   "metadata": {},
   "outputs": [],
   "source": [
    "print(data)\n",
    "columns_name = data.columns.values\n",
    "#print(columns_name)\n",
    "mag_name_list=[]\n",
    "for c in columns_name:\n",
    "    if \"_MAG_\" in c:\n",
    "        mag_name_list.append(c)\n",
    "print(mag_name_list)"
   ]
  },
  {
   "cell_type": "markdown",
   "execution_count": null,
   "metadata": {},
   "outputs": [],
   "source": [
    "### 1.2 data without zspec<=0"
   ]
  },
  {
   "cell_type": "code",
   "execution_count": null,
   "metadata": {},
   "outputs": [],
   "source": [
    "cosmos_data = data[data[\"zspec\"]>0]\n",
    "#print(len(cosmos_data))"
   ]
  },
  {
   "cell_type": "markdown",
   "execution_count": null,
   "metadata": {},
   "outputs": [],
   "source": [
    "### 1.3 zspec data plot (to verify the previous step)"
   ]
  },
  {
   "cell_type": "code",
   "execution_count": null,
   "metadata": {},
   "outputs": [],
   "source": [
    "plt.figure()\n",
    "plt.scatter(cosmos_data[\"zspec\"],cosmos_data[\"zspec\"])"
   ]
  },
  {
   "cell_type": "markdown",
   "execution_count": null,
   "metadata": {},
   "outputs": [],
   "source": [
    "### 1.4 decision_tree_data(find IB and the IB value)\n",
    "\n",
    "\n",
    "#### —— IB: IA767_MAG_APER2 \n",
    "#### —— IB_value = 22.6 "
   ]
  },
  {
   "cell_type": "code",
   "execution_count": null,
   "metadata": {},
   "outputs": [],
   "source": [
    "#print(cosmos_data[\"IA767_MAG_APER2\"])\n",
    "for i in np.arange(21,25,0.1):\n",
    "    print(\"Range:(\",round(i,2),\",\",round(i+0.1,2),\") Counts:\",len(cosmos_data[(cosmos_data.IA767_MAG_APER2> i) & (cosmos_data.IA767_MAG_APER2 < i+0.1)]))\n",
    "#print(len(cosmos_data[(cosmos_data.IA767_MAG_APER2>22.4) & (cosmos_data.IA767_MAG_APER2 < 22.5)]))\n"
   ]
  },
  {
   "cell_type": "code",
   "execution_count": null,
   "metadata": {},
   "outputs": [],
   "source": [
    "IB = \"IA767_MAG_APER2\"\n",
    "IB_value = 22.6\n",
    "decision_tree_data = cosmos_data[cosmos_data[IB] < IB_value]\n",
    "print(decision_tree_data)"
   ]
  },
  {
   "cell_type": "markdown",
   "execution_count": null,
   "metadata": {},
   "outputs": [],
   "source": [
    "# 2. Decision Tree"
   ]
  },
  {
   "cell_type": "markdown",
   "execution_count": null,
   "metadata": {},
   "outputs": [],
   "source": [
    "### 2.1 input dataset"
   ]
  },
  {
   "cell_type": "code",
   "execution_count": null,
   "metadata": {},
   "outputs": [],
   "source": [
    "N = len(decision_tree_data)\n",
    "X = np.zeros((N, len(mag_name_list)-1))\n",
    "for i in range(len(mag_name_list)-1):\n",
    "    X[:, i] = decision_tree_data[mag_name_list[i]] - decision_tree_data[mag_name_list[i+1]]\n",
    "z = decision_tree_data['zspec']"
   ]
  },
  {
   "cell_type": "markdown",
   "execution_count": null,
   "metadata": {},
   "outputs": [],
   "source": [
    "### 2.2 training and test set (8:2)"
   ]
  },
  {
   "cell_type": "code",
   "execution_count": null,
   "metadata": {},
   "outputs": [],
   "source": [
    "Ntrain = int(8 * N / 10)\n",
    "Xtrain = X[:Ntrain]\n",
    "ztrain = z[:Ntrain]\n",
    "Xtest = X[Ntrain:]\n",
    "ztest = z[Ntrain:]"
   ]
  },
  {
   "cell_type": "markdown",
   "execution_count": null,
   "metadata": {},
   "outputs": [],
   "source": [
    "### 2.3  training and test set description"
   ]
  },
  {
   "cell_type": "code",
   "execution_count": null,
   "metadata": {},
   "outputs": [],
   "source": [
    "print (\"training sample size: \",len(Xtrain))\n",
    "print (\"test sample size    : \",len(Xtest))\n",
    "print (\"train   +   test    = \", N )\n",
    "print (\"train / sample =\", round(len(Xtrain)/(len(Xtrain)+len(Xtest)),1))\n",
    "print (\"test  / sample =\", round(len(Xtest)/(len(Xtrain)+len(Xtest)),1))"
   ]
  },
  {
   "cell_type": "markdown",
   "execution_count": null,
   "metadata": {},
   "outputs": [],
   "source": [
    "### 2.3.1 decision Tree"
   ]
  },
  {
   "cell_type": "code",
   "execution_count": null,
   "metadata": {},
   "outputs": [],
   "source": [
    "from sklearn import tree\n",
    "clf = tree.DecisionTreeRegressor()\n",
    "clf = clf.fit(Xtrain, ztrain)\n",
    "# prediction on the test sample\n",
    "zpred = clf.predict(Xtest)"
   ]
  },
  {
   "cell_type": "code",
   "execution_count": null,
   "metadata": {},
   "outputs": [],
   "source": [
    "# distribution of redshifts predicted from the training sample\n",
    "plt.figure(figsize=(8,6))\n",
    "plt.hist(zpred,bins=30,range=(0.,1.5))\n",
    "plt.xlabel(r'$z_{\\rm{predicted}}$',fontsize=20)\n",
    "plt.ylabel('counts',fontsize=20)\n",
    "plt.show()\n",
    "\n",
    "# distribution of real spectroscopic redshifts \n",
    "# on the test sample\n",
    "plt.figure(figsize=(8,6))\n",
    "plt.hist(ztest,bins=30,range=(0.,1.5))\n",
    "plt.xlabel(r'$z_{\\rm{spec}}$_test',fontsize=20)\n",
    "plt.ylabel('counts',fontsize=20)\n",
    "plt.show()"
   ]
  },
  {
   "cell_type": "code",
   "execution_count": null,
   "metadata": {},
   "outputs": [],
   "source": [
    "plt.figure(figsize=(8,6))\n",
    "plt.scatter(zpred,ztest,marker=\".\",s=6,color=\"steelblue\")\n",
    "plt.plot([0.,2.],[0.,2.],color=\"darkslategray\")\n",
    "plt.xlim(0.,1.2)\n",
    "plt.ylim(0.,1.2)\n",
    "plt.xlabel(r'$z_{\\rm{spec}}$',fontsize=20)\n",
    "plt.ylabel(r'$z_{\\rm{predicted}}$',fontsize=20)\n",
    "plt.show()"
   ]
  },
  {
   "cell_type": "markdown",
   "execution_count": null,
   "metadata": {},
   "outputs": [],
   "source": [
    "### 2.3.2 Predict the entire sample and compare it with an estimate of the photometric redshift"
   ]
  },
  {
   "cell_type": "code",
   "execution_count": null,
   "metadata": {},
   "outputs": [],
   "source": [
    "N_all = len(data)\n",
    "X_all = np.zeros((N_all, len(mag_name_list)-1))\n",
    "for i in range(len(mag_name_list)-1):\n",
    "    X_all[:, i] = data[mag_name_list[i]] - data[mag_name_list[i+1]]\n",
    "z_all = data['zspec']\n",
    "z_predict_all = clf.predict(X_all)"
   ]
  },
  {
   "cell_type": "code",
   "execution_count": null,
   "metadata": {},
   "outputs": [],
   "source": [
    "# distribution of redshifts predicted for the entire sample\n",
    "plt.figure(figsize=(8,6))\n",
    "plt.hist(z_predict_all,bins=40,range=(0.,4))\n",
    "plt.xlabel('z predicted (all sample)',fontsize=20)\n",
    "plt.ylabel('counts',fontsize=20)\n",
    "plt.show()\n",
    "\n",
    "# to test the entire sample we can't use z_spec simply because we don't have measurements\n",
    "# but we have an estimate of the photometric redshift from the COSMOS sample.\n",
    "plt.figure(figsize=(8,6))\n",
    "plt.hist(decision_tree_data['Z_MINCHI2'],bins=30,range=(0.,4))\n",
    "plt.xlabel(r'$z_{\\rm{photo}}$ (all sample)',fontsize=20)\n",
    "plt.ylabel('counts',fontsize=20)\n",
    "plt.show()"
   ]
  },
  {
   "cell_type": "code",
   "execution_count": null,
   "metadata": {},
   "outputs": [],
   "source": [
    "plt.figure(figsize=(8,6))\n",
    "plt.scatter(data['Z_MINCHI2'],z_predict_all,marker=\".\",s=1)\n",
    "plt.plot([0.,2.],[0.,2.])\n",
    "plt.xlim(0.,1.5)\n",
    "plt.ylim(0.,1.5)\n",
    "plt.xlabel(r'$z_{\\rm{photo}}$',fontsize=20)\n",
    "plt.ylabel(r'$z_{\\rm{predicted}}$',fontsize=20)\n",
    "plt.title('All sample',fontsize=20)\n",
    "plt.show()"
   ]
  },
  {
   "cell_type": "code",
   "execution_count": null,
   "metadata": {},
   "outputs": [],
   "source": []
  }
 ],
 "metadata": {
  "kernelspec": {
   "display_name": "Python 3",
   "language": "python",
   "name": "python3"
  },
  "language_info": {
   "codemirror_mode": {
    "name": "ipython",
    "version": 3
   },
   "file_extension": ".py",
   "mimetype": "text/x-python",
   "name": "python",
   "nbconvert_exporter": "python",
   "pygments_lexer": "ipython3",
   "version": "3.7.5-final"
  }
 },
 "nbformat": 4,
 "nbformat_minor": 2
}