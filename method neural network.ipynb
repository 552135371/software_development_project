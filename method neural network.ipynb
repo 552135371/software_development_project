{
 "cells": [
  {
   "cell_type": "code",
   "execution_count": 27,
   "metadata": {},
   "outputs": [],
   "source": [
    "import numpy as np, scipy.stats as st\n",
    "import numpy as np\n",
    "import matplotlib.pyplot as plt\n",
    "import pandas as pd\n",
    "from sklearn.model_selection import train_test_split\n",
    "from sklearn.neural_network import MLPRegressor"
   ]
  },
  {
   "cell_type": "code",
   "execution_count": 41,
   "metadata": {},
   "outputs": [],
   "source": [
    "COSMOS = pd.read_csv('match_COSMOS_99_with_err(1) (1)-Copy1.csv') \n",
    "COSMOS_1 = COSMOS[COSMOS.zspec >0] \n",
    "COSMOS_1 = COSMOS_1[COSMOS_1.IA767_MAG_APER2 <= 22.5]\n",
    "COSMOS_1 = COSMOS_1[COSMOS_1.IA767_MAG_APER2 >= 17]\n",
    "COSMOS_1 = COSMOS[COSMOS.zspec <= 1.5] "
   ]
  },
  {
   "cell_type": "code",
   "execution_count": 42,
   "metadata": {},
   "outputs": [],
   "source": [
    "COSMOS_1 = COSMOS_1[COSMOS_1.columns.drop(list(COSMOS_1.filter(regex='MAGERR')))] \n",
    "COSMOS_1 = COSMOS_1.filter(regex='(zspec|MAG)')"
   ]
  },
  {
   "cell_type": "code",
   "execution_count": 43,
   "metadata": {},
   "outputs": [],
   "source": [
    "y = COSMOS_1['zspec'] \n",
    "x = COSMOS_1.drop(['zspec'], axis=1)"
   ]
  },
  {
   "cell_type": "code",
   "execution_count": 44,
   "metadata": {},
   "outputs": [],
   "source": [
    "x_train, x_test, y_train, y_test = train_test_split(x,y, test_size= 0.2)"
   ]
  },
  {
   "cell_type": "code",
   "execution_count": null,
   "metadata": {},
   "outputs": [],
   "source": [
    "clf = MLPRegressor(hidden_layer_sizes=(100,100,100),alpha=0.001,random_state=1) \n",
    "clf.fit(x_train, y_train)"
   ]
  },
  {
   "cell_type": "code",
   "execution_count": null,
   "metadata": {},
   "outputs": [],
   "source": [
    "prediction=clf.predict(x_test) \n",
    "plt.figure(figsize=(8,6)) \n",
    "plt.scatter(y_test,prediction,marker=\".\") \n",
    "plt.xlabel(r'zspec',fontsize=20) \n",
    "plt.ylabel(r'zpredicted',fontsize=20) \n",
    "plt.show()"
   ]
  },
  {
   "cell_type": "code",
   "execution_count": null,
   "metadata": {},
   "outputs": [],
   "source": []
  }
 ],
 "metadata": {
  "kernelspec": {
   "display_name": "Python 3",
   "language": "python",
   "name": "python3"
  },
  "language_info": {
   "codemirror_mode": {
    "name": "ipython",
    "version": 3
   },
   "file_extension": ".py",
   "mimetype": "text/x-python",
   "name": "python",
   "nbconvert_exporter": "python",
   "pygments_lexer": "ipython3",
   "version": "3.7.4"
  }
 },
 "nbformat": 4,
 "nbformat_minor": 2
}
