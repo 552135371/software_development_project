{
 "cells": [
  {
   "cell_type": "code",
   "execution_count": 1,
   "metadata": {},
   "outputs": [
    {
     "name": "stderr",
     "output_type": "stream",
     "text": [
      "Using TensorFlow backend.\n"
     ]
    }
   ],
   "source": [
    "# usual packages\n",
    "import numpy as np\n",
    "import matplotlib.pyplot as plt\n",
    "import pandas as pd\n",
    "import random\n",
    "from collections import defaultdict\n",
    "\n",
    "# machine learning packages\n",
    "from sklearn.model_selection import train_test_split\n",
    "from keras.models import Sequential\n",
    "from keras.layers import Dense\n",
    "from sklearn.ensemble import RandomForestRegressor\n",
    "from sklearn.preprocessing import StandardScaler\n",
    "from sklearn.datasets import load_iris\n",
    "from sklearn.pipeline import make_pipeline\n",
    "from sklearn import preprocessing\n",
    "from sklearn.model_selection import cross_validate\n",
    "from sklearn.svm import SVR\n",
    "from sklearn.tree import DecisionTreeRegressor\n",
    "from sklearn.neural_network import MLPRegressor\n",
    "\n",
    "%matplotlib inline"
   ]
  },
  {
   "cell_type": "code",
   "execution_count": 2,
   "metadata": {},
   "outputs": [],
   "source": [
    "cosmos = pd.read_csv('match_COSMOS_99_with_err.csv')\n",
    "cosmos=cosmos.loc[:,[\"B_MAG_APER2\",\"H_MAG_APER2\",\"Hw_MAG_APER2\",\"IA484_MAG_APER2\",\"IA527_MAG_APER2\",\"IA624_MAG_APER2\",\n",
    "            \"IA679_MAG_APER2\",\"IA738_MAG_APER2\",\"IA767_MAG_APER2\",\"IB427_MAG_APER2\",\"IB464_MAG_APER2\",\"IB505_MAG_APER2\",\n",
    "            \"IB574_MAG_APER2\",\"IB709_MAG_APER2\",\"IB827_MAG_APER2\",\"J_MAG_APER2\",\"Ks_MAG_APER2\",\"Ksw_MAG_APER2\",\n",
    "            \"NB711_MAG_APER2\",\"NB816_MAG_APER2\",\"SPLASH_1_MAG\",\"SPLASH_2_MAG\",\"SPLASH_3_MAG\",\"SPLASH_4_MAG\",\"V_MAG_APER2\",\n",
    "            \"Y_MAG_APER2\",\"ip_MAG_APER2\",\"r_MAG_APER2\",\"yHSC_MAG_APER2\",\"zpp_MAG_APER2\",'zspec']]"
   ]
  },
  {
   "cell_type": "code",
   "execution_count": 3,
   "metadata": {},
   "outputs": [
    {
     "name": "stdout",
     "output_type": "stream",
     "text": [
      "(391103, 31)\n",
      "(12243, 31)\n",
      "45        0.0994\n",
      "60        0.5181\n",
      "71        0.3695\n",
      "106       0.0993\n",
      "369       0.6774\n",
      "           ...  \n",
      "391052    0.9268\n",
      "391053    0.6978\n",
      "391058    0.3444\n",
      "391075    0.4070\n",
      "391079    0.5340\n",
      "Name: zspec, Length: 12243, dtype: float64\n"
     ]
    }
   ],
   "source": [
    "df_new=cosmos.copy()\n",
    "df_new=df_new[(df_new[\"IA767_MAG_APER2\"]<=22.5) & ( df_new[\"IA767_MAG_APER2\"]>=18)]\n",
    "df_new=df_new[(df_new['zspec']>0)&(df_new['zspec']<1.5)]\n",
    "\n",
    "df_new.iloc[0] = df_new.iloc[0].replace({-99.9:None})\n",
    "df_new.iloc[0] = df_new.iloc[0].replace({None:np.mean(df_new.iloc[0])})\n",
    "\n",
    "\n",
    "def preprocess(df, zspec_drop=True, magnitude_drop=True):\n",
    "    \n",
    "    df_new=df.copy()\n",
    "    print(df_new.shape)\n",
    "    \n",
    "    if (magnitude_drop==True):\n",
    "        df_new=df_new[(df_new[\"IA767_MAG_APER2\"]<=22.5) & ( df_new[\"IA767_MAG_APER2\"]>=18)]\n",
    "    if (zspec_drop == True):\n",
    "        df_new=df_new[(df_new['zspec']>0)&(df_new['zspec']<1.5)]\n",
    "    \n",
    "    print(df_new.shape)\n",
    " \n",
    "    for i in range(len(df_new)):        \n",
    "        df_new.iloc[i] = df_new.iloc[i].replace({-99.9:None})\n",
    "        df_new.iloc[i] = df_new.iloc[i].replace({None:np.mean(df_new.iloc[i])})\n",
    "        \n",
    "    return df_new.iloc[:,:-1] , df_new.iloc[:,-1]\n",
    "\n",
    "photo_bands,zspec=preprocess(cosmos)\n",
    "print(zspec)\n",
    "stdScaler= StandardScaler()\n",
    "stdScaler.fit(photo_bands)\n",
    "photo_bands=stdScaler.transform(photo_bands)"
   ]
  },
  {
   "cell_type": "code",
   "execution_count": 4,
   "metadata": {},
   "outputs": [],
   "source": [
    "X_train,X_test,Y_train,Y_test = train_test_split(photo_bands, zspec, test_size=0.2)"
   ]
  },
  {
   "cell_type": "code",
   "execution_count": 5,
   "metadata": {
    "scrolled": true
   },
   "outputs": [
    {
     "name": "stdout",
     "output_type": "stream",
     "text": [
      "<class 'dict'>\n",
      "defaultdict(<class 'dict'>, {})\n"
     ]
    }
   ],
   "source": [
    "#nHiddenUnits = [300, 500, 800]\n",
    "nHiddenUnits = [(300,), (300,300), (300,300,300), (300,300,300,300), (300,300,300,300,300)]\n",
    "parameters_nn = {'hidden_layer_sizes': nHiddenUnits}\n",
    "#nn = MLPRegressor(activation = 'relu', alpha = 100, max_iter=1400, solver = 'adam').fit(X_train, Y_train)\n",
    "nn = MLPRegressor(activation = 'relu', max_iter=4000, solver = 'adam', random_state = 0)\n",
    "print(dict)\n",
    "z_pres=defaultdict(dict)\n",
    "print(z_pres)\n"
   ]
  },
  {
   "cell_type": "code",
   "execution_count": 6,
   "metadata": {},
   "outputs": [],
   "source": [
    "#nn = MLPRegressor(hidden_layer_sizes = (500), activation = 'relu', max_iter=1400, solver = 'adam', random_state = 0)\n",
    "#nn.fit(X_train,Y_train)\n",
    "#print(nn.score(X_test,Y_test))"
   ]
  },
  {
   "cell_type": "code",
   "execution_count": 7,
   "metadata": {},
   "outputs": [
    {
     "name": "stdout",
     "output_type": "stream",
     "text": [
      "0.8477357885443896\n",
      "0.8477357885443896\n"
     ]
    },
    {
     "data": {
      "image/png": "[encoded data removed]",
      "text/plain": [
       "<Figure size 432x288 with 1 Axes>"
      ]
     },
     "metadata": {
      "needs_background": "light"
     },
     "output_type": "display_data"
    }
   ],
   "source": [
    "from sklearn.model_selection import GridSearchCV\n",
    "gd_srf=GridSearchCV(nn, parameters_nn,cv=3)\n",
    "gd_srf.fit(X_train,Y_train)\n",
    "#z_pres[name]=gd_srf.predict(X_test)\n",
    "print(gd_srf.best_score_)\n",
    "\n",
    "scores_nn = gd_srf.cv_results_['mean_test_score']\n",
    "print(gd_srf.best_score_)\n",
    "scores_std_nn = gd_srf.cv_results_['std_test_score']\n",
    "\n",
    "x_label =np.arange(len(nHiddenUnits))\n",
    "plt.fill_between(x_label, scores_nn - scores_std_nn,\n",
    "                 scores_nn + scores_std_nn, alpha=0.1, color=\"g\")\n",
    "plt.plot(x_label, scores_nn, 'o-')\n",
    "#plt.xscale('log')\n",
    "plt.xlabel('Hidden units')\n",
    "plt.ylabel('Average score')\n",
    "plt.title('Neural network 1');"
   ]
  },
  {
   "cell_type": "code",
   "execution_count": null,
   "metadata": {},
   "outputs": [],
   "source": []
  }
 ],
 "metadata": {
  "kernelspec": {
   "display_name": "Python 3",
   "language": "python",
   "name": "python3"
  },
  "language_info": {
   "codemirror_mode": {
    "name": "ipython",
    "version": 3
   },
   "file_extension": ".py",
   "mimetype": "text/x-python",
   "name": "python",
   "nbconvert_exporter": "python",
   "pygments_lexer": "ipython3",
   "version": "3.7.4"
  }
 },
 "nbformat": 4,
 "nbformat_minor": 2
}
