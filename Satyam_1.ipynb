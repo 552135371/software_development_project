{
 "cells": [
  {
   "cell_type": "code",
   "execution_count": null,
   "metadata": {},
   "outputs": [],
   "source": [
    "# usual packages\n",
    "import pandas as pd\n",
    "import matplotlib.pyplot as plt\n",
    "import numpy as np\n",
    "\n",
    "COSMOS = pd.read_csv('match_COSMOS_99_without_err.csv')\n",
    "COSMOS_rv = COSMOS.replace(to_replace = -99, value = None)\n",
    "COSMOS_rv = COSMOS_rv.replace(to_replace = -99.900000, value = None)\n",
    "COSMOS_rv = COSMOS_rv.replace(to_replace = -99.0, value = None)\n",
    "COSMOS_rv = COSMOS_rv.replace(to_replace = -9.9999, value = None)\n",
    "print(COSMOS_rv)\n",
    "\n",
    "\n",
    "################################\n",
    "def HISTO(x,bn=10,df=COSMOS_rv):\n",
    "    #Return the figure object with the histogram of x \n",
    "    #where x is the keywords from the pandas dataframe df. \n",
    "    #You can add features outside the function \n",
    "    #to the current instance of the figure, e.g. plt.xlim() or plt.title()\n",
    "    fig = plt.figure(figsize=(10,8))\n",
    "    #plt.hist(df[x],bins=bn,histtype='step',lw=3)\n",
    "    #plt.hist(df[x],bins='auto', range = (-1, 5))\n",
    "    plt.hist(df[x],bins='auto')\n",
    "    plt.xlabel(x,fontsize=25)\n",
    "    plt.ylabel('counts',fontsize=25)\n",
    "    plt.xlim(20, 25)\n",
    "    plt.savefig(x)\n",
    "    return fig \n",
    "\n",
    "\n",
    "\n",
    "#HISTO('B_MAG_APER2')\n",
    "#HISTO('H_MAG_APER2')\n",
    "#HISTO('Hw_MAG_APER2')\n",
    "#HISTO('IA484_MAG_APER2')\n",
    "#HISTO('IA527_MAG_APER2')\n",
    "#HISTO('IA624_MAG_APER2')\n",
    "#HISTO('IA679_MAG_APER2')\n",
    "#HISTO('IA738_MAG_APER2')\n",
    "HISTO('IA767_MAG_APER2')\n",
    "HISTO('IB427_MAG_APER2')\n",
    "HISTO('IB464_MAG_APER2')\n",
    "HISTO('IB505_MAG_APER2')\n",
    "HISTO('IB574_MAG_APER2')\n",
    "HISTO('IB709_MAG_APER2')\n",
    "HISTO('IB827_MAG_APER2')\n",
    "HISTO('zpp_MAG_APER2')\n",
    "HISTO('Z_MINCHI2')\n",
    "HISTO('zspec')"
   ]
  }
 ],
 "metadata": {
  "kernelspec": {
   "display_name": "Python 3",
   "language": "python",
   "name": "python3"
  },
  "language_info": {
   "codemirror_mode": {
    "name": "ipython",
    "version": 3
   },
   "file_extension": ".py",
   "mimetype": "text/x-python",
   "name": "python",
   "nbconvert_exporter": "python",
   "pygments_lexer": "ipython3",
   "version": "3.7.3"
  }
 },
 "nbformat": 4,
 "nbformat_minor": 2
}
