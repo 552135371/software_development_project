{
 "cells": [
  {
   "cell_type": "code",
   "execution_count": 144,
   "metadata": {},
   "outputs": [],
   "source": [
    "# usual packages\n",
    "import pandas as pd\n",
    "import matplotlib.pyplot as plt\n",
    "import numpy as np\n",
    "%matplotlib inline"
   ]
  },
  {
   "cell_type": "code",
   "execution_count": 145,
   "metadata": {},
   "outputs": [],
   "source": [
    "# machine learning packages\n",
    "from sklearn.model_selection import train_test_split\n",
    "from keras.models import Sequential\n",
    "from keras.layers import Dense"
   ]
  },
  {
   "cell_type": "code",
   "execution_count": 146,
   "metadata": {},
   "outputs": [],
   "source": [
    "#COSMOS = pd.read_csv('match_COSMOS_999.txt')\n",
    "cosmos = pd.read_csv('match_COSMOS_99_with_err_1.csv')\n",
    "cosmos=cosmos.loc[:,[\"B_MAG_APER2\",\"H_MAG_APER2\",\"Hw_MAG_APER2\",\"IA484_MAG_APER2\",\"IA527_MAG_APER2\",\"IA624_MAG_APER2\",\n",
    "            \"IA679_MAG_APER2\",\"IA738_MAG_APER2\",\"IA767_MAG_APER2\",\"IB427_MAG_APER2\",\"IB464_MAG_APER2\",\"IB505_MAG_APER2\",\n",
    "            \"IB574_MAG_APER2\",\"IB709_MAG_APER2\",\"IB827_MAG_APER2\",\"J_MAG_APER2\",\"Ks_MAG_APER2\",\"Ksw_MAG_APER2\",\n",
    "            \"NB711_MAG_APER2\",\"NB816_MAG_APER2\",\"SPLASH_1_MAG\",\"SPLASH_2_MAG\",\"SPLASH_3_MAG\",\"SPLASH_4_MAG\",\"V_MAG_APER2\",\n",
    "            \"Y_MAG_APER2\",\"ip_MAG_APER2\",\"r_MAG_APER2\",\"yHSC_MAG_APER2\",\"zpp_MAG_APER2\",'zspec']]"
   ]
  },
  {
   "cell_type": "code",
   "execution_count": 147,
   "metadata": {},
   "outputs": [
    {
     "name": "stdout",
     "output_type": "stream",
     "text": [
      "(391103, 31)\n"
     ]
    }
   ],
   "source": [
    "def dataprocess(df, zspec_drop=True, magnitude_drop=True):\n",
    "    \n",
    "    df_new=df.copy()\n",
    "    print(df_new.shape)\n",
    "    df_new=df_new.replace({-99.9:df_new.mean()})\n",
    "    if (magnitude_drop==True):\n",
    "        df_new=df_new[(df_new[\"IA767_MAG_APER2\"]<=22.7) & ( df_new[\"IA767_MAG_APER2\"]>=16.5)]\n",
    "        \n",
    "    if (zspec_drop == True):\n",
    "        df_new=df_new[(df_new['zspec']>0)&(df_new['zspec']<1)]\n",
    "        \n",
    "#     print(df_new.head(10))\n",
    "    return df_new.iloc[:,:-1] , df_new.iloc[:,-1]\n",
    "\n",
    "photo_bands,zspec=dataprocess(cosmos)\n",
    "\n"
   ]
  },
  {
   "cell_type": "code",
   "execution_count": 148,
   "metadata": {},
   "outputs": [],
   "source": [
    "photo_bands_train,photo_bands_test, z_spec_train, z_spec_test = train_test_split(photo_bands, zspec, test_size=0.2)"
   ]
  },
  {
   "cell_type": "code",
   "execution_count": 149,
   "metadata": {},
   "outputs": [],
   "source": [
    "N_estimators=20"
   ]
  },
  {
   "cell_type": "code",
   "execution_count": 150,
   "metadata": {},
   "outputs": [
    {
     "data": {
      "text/plain": [
       "RandomForestRegressor(bootstrap=True, criterion='mse', max_depth=None,\n",
       "                      max_features='auto', max_leaf_nodes=None,\n",
       "                      min_impurity_decrease=0.0, min_impurity_split=None,\n",
       "                      min_samples_leaf=1, min_samples_split=2,\n",
       "                      min_weight_fraction_leaf=0.0, n_estimators=20,\n",
       "                      n_jobs=None, oob_score=False, random_state=None,\n",
       "                      verbose=0, warm_start=False)"
      ]
     },
     "execution_count": 150,
     "metadata": {},
     "output_type": "execute_result"
    }
   ],
   "source": [
    "from sklearn.ensemble import RandomForestRegressor\n",
    "rf=RandomForestRegressor(n_estimators=N_estimators)\n",
    "rf.fit(photo_bands_train,z_spec_train)"
   ]
  },
  {
   "cell_type": "code",
   "execution_count": 151,
   "metadata": {},
   "outputs": [
    {
     "name": "stdout",
     "output_type": "stream",
     "text": [
      "max depth of the tree is :  34\n"
     ]
    }
   ],
   "source": [
    "X_train = photo_bands_test.values\n",
    "\n",
    "sample_id = 0\n",
    "tree_depths=[]\n",
    "for j, estimator in enumerate(rf.estimators_):\n",
    "    tree_depths.append(estimator.tree_.max_depth)\n",
    "print('max depth of the tree is : ',np.asarray(tree_depths).max() )\n",
    "\n",
    "   \n",
    "#     n_nodes = estimator.tree_.node_count\n",
    "#     children_left = estimator.tree_.children_left\n",
    "#     children_right = estimator.tree_.children_right\n",
    "#     feature = estimator.tree_.feature\n",
    "#     threshold = estimator.tree_.threshold\n",
    "    \n",
    "#     node_depth = np.zeros(shape=n_nodes, dtype=np.int64)\n",
    "#     is_leaves = np.zeros(shape=n_nodes, dtype=bool)\n",
    "#     stack = [(0, -1)]  # seed is the root node id and its parent depth\n",
    "#     while len(stack) > 0:\n",
    "#         node_id, parent_depth = stack.pop()\n",
    "#         node_depth[node_id] = parent_depth + 1\n",
    "\n",
    "#         # If we have a test node\n",
    "#         if (children_left[node_id] != children_right[node_id]):\n",
    "#             stack.append((children_left[node_id], parent_depth + 1))\n",
    "#             stack.append((children_right[node_id], parent_depth + 1))\n",
    "#         else:\n",
    "#             is_leaves[node_id] = True\n",
    "\n",
    "#     print(\"The binary tree structure has %s nodes and has \"\n",
    "#           \"the following tree structure:\"\n",
    "#           % n_nodes)\n",
    "#     for i in range(n_nodes):\n",
    "#         if is_leaves[i]:\n",
    "#             print(\"%snode=%s leaf node.\" % (node_depth[i] * \"\\t\", i))\n",
    "#         else:\n",
    "#             print(\"%snode=%s test node: go to node %s if X[:, %s] <= %s else to \"\n",
    "#                   \"node %s.\"\n",
    "#                   % (node_depth[i] * \"\\t\",\n",
    "#                      i,\n",
    "#                      children_left[i],\n",
    "#                      feature[i],\n",
    "#                      threshold[i],\n",
    "#                      children_right[i],\n",
    "#                      ))\n"
   ]
  },
  {
   "cell_type": "code",
   "execution_count": null,
   "metadata": {},
   "outputs": [],
   "source": []
  },
  {
   "cell_type": "code",
   "execution_count": 152,
   "metadata": {},
   "outputs": [],
   "source": [
    "pre=rf.predict(photo_bands_test)"
   ]
  },
  {
   "cell_type": "code",
   "execution_count": 153,
   "metadata": {},
   "outputs": [],
   "source": [
    "dict_zspec=dict(zip(z_spec_test,pre))\n",
    "unique_ztest=np.unique(np.sort(z_spec_test))\n",
    "bin_num=100\n",
    "bin_length=int(len(uniq_ztest)/bin_num)\n",
    "variances=[]\n",
    "errors=[]\n",
    "means=[]\n",
    "bin_edges=[]\n",
    "for i in range(bin_num):\n",
    "    \n",
    "    left_edge=i*bin_length\n",
    "    right_edge=(i+1)*bin_length\n",
    "    bin_edges.append(unique_ztest[left_edge])\n",
    "    if(right_edge>(len(pre)-1)):\n",
    "        right_edge=len(pre)-1\n",
    "    bin_datas=[]\n",
    "    for z_test in unique_ztest[left_edge:right_edge]:\n",
    "        bin_datas.append(dict_zspec[z_test])\n",
    "    bin_datas=np.asarray(bin_datas)\n",
    "    \n",
    "    mean=bin_datas.mean()\n",
    "    variances.append(np.std(bin_datas))\n",
    "    \n",
    "    error=0\n",
    "#     print('mean:',mean)\n",
    "#     print(bin_datas)\n",
    "    for z in bin_datas:\n",
    "        error+=(z-mean)**2\n",
    "    errors.append(error/len(bin_datas))\n",
    "#     print(error/len(bin_datas))\n",
    "bin_edges.append(unique_ztest[-1])"
   ]
  },
  {
   "cell_type": "code",
   "execution_count": 154,
   "metadata": {},
   "outputs": [
    {
     "name": "stdout",
     "output_type": "stream",
     "text": [
      "100\n"
     ]
    },
    {
     "data": {
      "text/plain": [
       "<BarContainer object of 100 artists>"
      ]
     },
     "execution_count": 154,
     "metadata": {},
     "output_type": "execute_result"
    },
    {
     "data": {
      "image/png": "[encoded data removed]",
      "text/plain": [
       "<Figure size 432x288 with 1 Axes>"
      ]
     },
     "metadata": {
      "needs_background": "light"
     },
     "output_type": "display_data"
    }
   ],
   "source": [
    "bincenters = 0.5*(np.asarray(bin_edges)[1:]+np.asarray(bin_edges)[:-1])\n",
    "print(len(bincenters))\n",
    "plt.bar(bincenters, variouses, width=0.016, color='r', yerr=errors)"
   ]
  },
  {
   "cell_type": "code",
   "execution_count": 155,
   "metadata": {},
   "outputs": [
    {
     "data": {
      "image/png": "[encoded data removed]",
      "text/plain": [
       "<Figure size 432x288 with 1 Axes>"
      ]
     },
     "metadata": {
      "needs_background": "light"
     },
     "output_type": "display_data"
    }
   ],
   "source": [
    "plt.scatter(z_spec_test,pre,size=.01)\n",
    "plt.savefig('random_forest_dropped_mag')"
   ]
  },
  {
   "cell_type": "code",
   "execution_count": 156,
   "metadata": {},
   "outputs": [
    {
     "name": "stdout",
     "output_type": "stream",
     "text": [
      "1908\n",
      "variance is:3.1809161645123095e-05\n"
     ]
    }
   ],
   "source": [
    "len_pre=len(pre)\n",
    "left_inteval=int(0.16*len_pre)\n",
    "right_inteval=int(-0.16*len_pre)\n",
    "center_pre=np.sort(np.asarray(pre))[left_inteval:right_inteval]\n",
    "print(len(center_pre))\n",
    "sum=0\n",
    "mean=np.asarray(center_pre).mean()\n",
    "for xi in center_pre:\n",
    "    sum+=(xi-mean)**2\n",
    "    sum/=len(center_pre)\n",
    "print('variance is:'+str(sum) )\n"
   ]
  },
  {
   "cell_type": "code",
   "execution_count": null,
   "metadata": {},
   "outputs": [],
   "source": []
  }
 ],
 "metadata": {
  "kernelspec": {
   "display_name": "Python 3",
   "language": "python",
   "name": "python3"
  },
  "language_info": {
   "codemirror_mode": {
    "name": "ipython",
    "version": 3
   },
   "file_extension": ".py",
   "mimetype": "text/x-python",
   "name": "python",
   "nbconvert_exporter": "python",
   "pygments_lexer": "ipython3",
   "version": "3.7.4"
  }
 },
 "nbformat": 4,
 "nbformat_minor": 2
}
